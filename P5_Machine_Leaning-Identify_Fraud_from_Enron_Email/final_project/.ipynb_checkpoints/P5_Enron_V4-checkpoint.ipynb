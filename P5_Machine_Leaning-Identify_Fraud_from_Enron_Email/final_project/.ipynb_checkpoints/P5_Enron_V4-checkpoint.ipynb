{
 "cells": [
  {
   "cell_type": "markdown",
   "metadata": {},
   "source": [
    "# 基于安然数据集的机器学习分析"
   ]
  },
  {
   "cell_type": "markdown",
   "metadata": {},
   "source": [
    "## 一、项目背景介绍"
   ]
  },
  {
   "cell_type": "markdown",
   "metadata": {},
   "source": [
    "本项目基于安然财务和邮件数据集，采用机器学习算法，分析出有欺诈嫌疑的雇员。"
   ]
  },
  {
   "cell_type": "markdown",
   "metadata": {},
   "source": [
    "## 二、探索数据集"
   ]
  },
  {
   "cell_type": "markdown",
   "metadata": {
    "collapsed": true
   },
   "source": [
    "加载数据集，并取一条记录查看数据结构。"
   ]
  },
  {
   "cell_type": "code",
   "execution_count": 17,
   "metadata": {},
   "outputs": [
    {
     "name": "stdout",
     "output_type": "stream",
     "text": [
      "('METTS MARK', {'salary': 365788, 'to_messages': 807, 'deferral_payments': 'NaN', 'total_payments': 1061827, 'exercised_stock_options': 'NaN', 'bonus': 600000, 'restricted_stock': 585062, 'shared_receipt_with_poi': 702, 'restricted_stock_deferred': 'NaN', 'total_stock_value': 585062, 'expenses': 94299, 'loan_advances': 'NaN', 'from_messages': 29, 'other': 1740, 'from_this_person_to_poi': 1, 'poi': False, 'director_fees': 'NaN', 'deferred_income': 'NaN', 'long_term_incentive': 'NaN', 'email_address': 'mark.metts@enron.com', 'from_poi_to_this_person': 38})\n"
     ]
    }
   ],
   "source": [
    "import pickle\n",
    "with open(\"final_project_dataset.pkl\", \"r\") as data_file:\n",
    "    data_dict = pickle.load(data_file)\n",
    "print data_dict.items()[0]"
   ]
  },
  {
   "cell_type": "markdown",
   "metadata": {},
   "source": [
    "从上面的输入可以看出数据集的结构，一条数据的key为人名，值为包含各个特征的字典，特征包括salary, to_messages等。"
   ]
  },
  {
   "cell_type": "markdown",
   "metadata": {},
   "source": [
    "查看数据集的大小"
   ]
  },
  {
   "cell_type": "code",
   "execution_count": 2,
   "metadata": {},
   "outputs": [
    {
     "name": "stdout",
     "output_type": "stream",
     "text": [
      "146\n"
     ]
    }
   ],
   "source": [
    "print len(data_dict)"
   ]
  },
  {
   "cell_type": "markdown",
   "metadata": {},
   "source": [
    "查看特征数量"
   ]
  },
  {
   "cell_type": "code",
   "execution_count": 3,
   "metadata": {},
   "outputs": [
    {
     "name": "stdout",
     "output_type": "stream",
     "text": [
      "21\n"
     ]
    }
   ],
   "source": [
    "print len(data_dict.items()[0][1])"
   ]
  },
  {
   "cell_type": "markdown",
   "metadata": {},
   "source": [
    "其中poi是期待预测的值，为标签，因此特征数量为20。"
   ]
  },
  {
   "cell_type": "markdown",
   "metadata": {},
   "source": [
    "本项目的目的是找出有欺诈嫌疑的雇员，在数据集中，poi为True的为嫌疑犯\n",
    "查看嫌疑犯数量"
   ]
  },
  {
   "cell_type": "code",
   "execution_count": 3,
   "metadata": {},
   "outputs": [
    {
     "name": "stdout",
     "output_type": "stream",
     "text": [
      "18\n"
     ]
    }
   ],
   "source": [
    "#查看嫌疑犯的数量\n",
    "count = 0\n",
    "for item in data_dict.items():\n",
    "    if item[1]['poi'] == True:\n",
    "        count +=1\n",
    "print count"
   ]
  },
  {
   "cell_type": "markdown",
   "metadata": {},
   "source": [
    "非嫌疑犯的数量为146-18=128，可以看出这个数据集是一个很不平衡的数据集，且数据的样本比较少。"
   ]
  },
  {
   "cell_type": "markdown",
   "metadata": {},
   "source": [
    "从上面一条雇员记录的输入结果看，有好几个特征值存在缺失值情况，即为\"NaN\"，如deferral_payments，exercised_stock_options等，本项目重点分析salary和邮件情况，所以先查看salary和email_address值为缺失值的情况。"
   ]
  },
  {
   "cell_type": "code",
   "execution_count": 4,
   "metadata": {},
   "outputs": [
    {
     "name": "stdout",
     "output_type": "stream",
     "text": [
      "51\n"
     ]
    }
   ],
   "source": [
    "#查看salary值为NaN的数量\n",
    "count = 0\n",
    "for item in data_dict.items():\n",
    "    if item[1]['salary'] == 'NaN':\n",
    "        count +=1\n",
    "print count"
   ]
  },
  {
   "cell_type": "code",
   "execution_count": 5,
   "metadata": {},
   "outputs": [
    {
     "name": "stdout",
     "output_type": "stream",
     "text": [
      "35\n"
     ]
    }
   ],
   "source": [
    "#查看email_address值为NaN的数量\n",
    "count = 0\n",
    "for item in data_dict.items():\n",
    "    if item[1]['email_address'] == 'NaN':\n",
    "        count +=1\n",
    "print count"
   ]
  },
  {
   "cell_type": "markdown",
   "metadata": {},
   "source": [
    "salary缺失的记录有51条， email_address缺失的记录有35条。"
   ]
  },
  {
   "cell_type": "markdown",
   "metadata": {},
   "source": [
    "## 三、异常值调查"
   ]
  },
  {
   "cell_type": "markdown",
   "metadata": {},
   "source": [
    "分析salary与bonus的关系，看看是否有雇员的薪水或奖金存在异常情况。\n",
    "通过数据可视化暂时salary和bonus的分布情况。"
   ]
  },
  {
   "cell_type": "code",
   "execution_count": 6,
   "metadata": {},
   "outputs": [
    {
     "data": {
      "image/png": "[encoded data removed]",
      "text/plain": [
       "<matplotlib.figure.Figure at 0x6a6fa58>"
      ]
     },
     "metadata": {},
     "output_type": "display_data"
    }
   ],
   "source": [
    "#!/usr/bin/python\n",
    "import pickle\n",
    "import sys\n",
    "import matplotlib.pyplot\n",
    "sys.path.append(\"../tools/\")\n",
    "from feature_format import featureFormat, targetFeatureSplit\n",
    "\n",
    "### read in data dictionary, convert to numpy array\n",
    "data_dict = pickle.load( open(\"../final_project/final_project_dataset.pkl\", \"r\") )\n",
    "features = [\"salary\", \"bonus\"]\n",
    "data = featureFormat(data_dict, features)\n",
    "\n",
    "for point in data:\n",
    "    salary = point[0]\n",
    "    bonus = point[1]\n",
    "    matplotlib.pyplot.scatter( salary, bonus )\n",
    "\n",
    "matplotlib.pyplot.xlabel(\"salary\")\n",
    "matplotlib.pyplot.ylabel(\"bonus\")\n",
    "matplotlib.pyplot.show()"
   ]
  },
  {
   "cell_type": "markdown",
   "metadata": {},
   "source": [
    "从上图可以看出，有一个点远离正常值区域，下面打印出salary大于1000万，奖金大于200万的值。"
   ]
  },
  {
   "cell_type": "code",
   "execution_count": 7,
   "metadata": {},
   "outputs": [
    {
     "name": "stdout",
     "output_type": "stream",
     "text": [
      "TOTAL 26704229 97343619\n"
     ]
    }
   ],
   "source": [
    "for x in data_dict.items():\n",
    "    if x[1]['salary'] > 10000000 and x[1]['bonus'] > 2000000 and x[1]['salary'] != 'NaN' and x[1]['bonus'] != 'NaN':\n",
    "        print x[0], x[1]['salary'], x[1]['bonus']"
   ]
  },
  {
   "cell_type": "markdown",
   "metadata": {},
   "source": [
    "从上面的输出结果看出，该异常点为TOTAL，应该是所有雇员的总和，所以将该点删掉。"
   ]
  },
  {
   "cell_type": "code",
   "execution_count": 18,
   "metadata": {},
   "outputs": [
    {
     "data": {
      "text/plain": [
       "{'bonus': 97343619,\n",
       " 'deferral_payments': 32083396,\n",
       " 'deferred_income': -27992891,\n",
       " 'director_fees': 1398517,\n",
       " 'email_address': 'NaN',\n",
       " 'exercised_stock_options': 311764000,\n",
       " 'expenses': 5235198,\n",
       " 'from_messages': 'NaN',\n",
       " 'from_poi_to_this_person': 'NaN',\n",
       " 'from_this_person_to_poi': 'NaN',\n",
       " 'loan_advances': 83925000,\n",
       " 'long_term_incentive': 48521928,\n",
       " 'other': 42667589,\n",
       " 'poi': False,\n",
       " 'restricted_stock': 130322299,\n",
       " 'restricted_stock_deferred': -7576788,\n",
       " 'salary': 26704229,\n",
       " 'shared_receipt_with_poi': 'NaN',\n",
       " 'to_messages': 'NaN',\n",
       " 'total_payments': 309886585,\n",
       " 'total_stock_value': 434509511}"
      ]
     },
     "execution_count": 18,
     "metadata": {},
     "output_type": "execute_result"
    }
   ],
   "source": [
    "data_dict.pop('TOTAL')"
   ]
  },
  {
   "cell_type": "code",
   "execution_count": 19,
   "metadata": {},
   "outputs": [
    {
     "data": {
      "text/plain": [
       "{'bonus': 'NaN',\n",
       " 'deferral_payments': 'NaN',\n",
       " 'deferred_income': 'NaN',\n",
       " 'director_fees': 'NaN',\n",
       " 'email_address': 'NaN',\n",
       " 'exercised_stock_options': 'NaN',\n",
       " 'expenses': 'NaN',\n",
       " 'from_messages': 'NaN',\n",
       " 'from_poi_to_this_person': 'NaN',\n",
       " 'from_this_person_to_poi': 'NaN',\n",
       " 'loan_advances': 'NaN',\n",
       " 'long_term_incentive': 'NaN',\n",
       " 'other': 362096,\n",
       " 'poi': False,\n",
       " 'restricted_stock': 'NaN',\n",
       " 'restricted_stock_deferred': 'NaN',\n",
       " 'salary': 'NaN',\n",
       " 'shared_receipt_with_poi': 'NaN',\n",
       " 'to_messages': 'NaN',\n",
       " 'total_payments': 362096,\n",
       " 'total_stock_value': 'NaN'}"
      ]
     },
     "execution_count": 19,
     "metadata": {},
     "output_type": "execute_result"
    }
   ],
   "source": [
    "# 删除其它异常值\n",
    "data_dict.pop('THE TRAVEL AGENCY IN THE PARK')"
   ]
  },
  {
   "cell_type": "markdown",
   "metadata": {},
   "source": [
    "## 四、优化特征选择"
   ]
  },
  {
   "cell_type": "markdown",
   "metadata": {},
   "source": [
    "### 4.1 创建新的特征"
   ]
  },
  {
   "cell_type": "markdown",
   "metadata": {},
   "source": [
    "数据集中的财务指标有salary和total_payments，这里构建一个新的特征salary_ratio，等于salary/total_payments，即计算工资在总支付中的比例，因salary是一个比较透明的，而其它收入如股票等可能存在操作空间，一个人的薪水在总支付中比例越低，可能的嫌疑越大。"
   ]
  },
  {
   "cell_type": "code",
   "execution_count": null,
   "metadata": {
    "collapsed": true
   },
   "outputs": [],
   "source": [
    "#创建新的特征\n",
    "def salary_ratio(salary, total_payments):\n",
    "    if salary == 'NaN' or total_payments == 'NaN':\n",
    "        salary_ratio = 0\n",
    "    else:\n",
    "        salary_ratio = float(salary)/total_payments\n",
    "    return salary_ratio\n",
    "\n",
    "for key in my_dataset:\n",
    "    my_dataset[key]['salary_ratio'] = salary_ratio(my_dataset[key]['salary'],  my_dataset[key]['total_payments'])"
   ]
  },
  {
   "cell_type": "markdown",
   "metadata": {},
   "source": [
    "### 4.2 测试新特征是否会对分类算法的结果产生影响"
   ]
  },
  {
   "cell_type": "code",
   "execution_count": null,
   "metadata": {
    "collapsed": true
   },
   "outputs": [],
   "source": [
    "# 未添加新特征的数据集\n",
    "data = featureFormat(data_dict, features_list, sort_keys = True)\n",
    "labels, features = targetFeatureSplit(data)\n",
    "\n",
    "# 添加新特征之后的数据集\n",
    "data = featureFormat(my_dataset, features_list, sort_keys = True)\n",
    "labels, features = targetFeatureSplit(data)"
   ]
  },
  {
   "cell_type": "markdown",
   "metadata": {},
   "source": [
    "运行结果如下："
   ]
  },
  {
   "cell_type": "code",
   "execution_count": null,
   "metadata": {
    "collapsed": true
   },
   "outputs": [],
   "source": [
    "# 未添加新特征的数据集\n",
    "The naive_bayes's recall is: 0.883720930233 \n",
    "The naive_bayes's precision is : 0.883720930233\n",
    "The SVC's recall is: 0.883720930233 \n",
    "The SVC's precision is : 0.883720930233\n",
    "\n",
    "# 添加新特征之后的数据集\n",
    "The naive_bayes's recall is: 0.883720930233 \n",
    "The naive_bayes's precision is : 0.883720930233\n",
    "The SVC's recall is: 0.883720930233 \n",
    "The SVC's precision is : 0.883720930233"
   ]
  },
  {
   "cell_type": "markdown",
   "metadata": {
    "collapsed": true
   },
   "source": [
    "验证发现新的特征未对算法结果产生影响。"
   ]
  },
  {
   "cell_type": "markdown",
   "metadata": {},
   "source": [
    "### 4.3 选择特征"
   ]
  },
  {
   "cell_type": "code",
   "execution_count": null,
   "metadata": {
    "collapsed": true
   },
   "outputs": [],
   "source": [
    "# 特征选择\n",
    "from sklearn.feature_selection import SelectKBest, f_classif\n",
    "selector = SelectKBest(f_classif, k=5)\n",
    "selector.fit(features, labels).scores_\n",
    "index =  selector.get_support(indices=True)\n",
    "features_list_best = features_list_all[1:]\n",
    "print '最佳特征组合：',\n",
    "# 将最佳特征组合加入到features_list\n",
    "features_list = ['poi', ]\n",
    "for i in index:\n",
    "      print features_list_best[i],\n",
    "      features_list.append(features_list_best[i])"
   ]
  },
  {
   "cell_type": "markdown",
   "metadata": {},
   "source": [
    "### 4.4 特征缩放"
   ]
  },
  {
   "cell_type": "code",
   "execution_count": null,
   "metadata": {
    "collapsed": true
   },
   "outputs": [],
   "source": [
    "# 特征缩放\n",
    "from sklearn.preprocessing import MinMaxScaler\n",
    "min_max_scaler = MinMaxScaler()\n",
    "features_train = min_max_scaler.fit_transform(features_train)\n",
    "labels_train = min_max_scaler.fit_transform(labels_train)"
   ]
  },
  {
   "cell_type": "markdown",
   "metadata": {},
   "source": [
    "经测算，缩放特征后未对结果产生影响。"
   ]
  },
  {
   "cell_type": "markdown",
   "metadata": {},
   "source": [
    "## 五、选择和调整算法"
   ]
  },
  {
   "cell_type": "markdown",
   "metadata": {},
   "source": [
    "### 5.1 选择朴素贝叶斯算法建立机器学习模型"
   ]
  },
  {
   "cell_type": "code",
   "execution_count": null,
   "metadata": {
    "collapsed": true
   },
   "outputs": [],
   "source": [
    "# 选择朴素贝叶斯算法建立机器学习模型\n",
    "from sklearn.naive_bayes import GaussianNB\n",
    "GaussianNB_clf = GaussianNB()\n",
    "\n",
    "t0 = time()\n",
    "GaussianNB_clf.fit(features_train, labels_train)\n",
    "print \"GaussianNB_clf training time:\", round(time()-t0, 3), \"s\"\n",
    "t1 = time()\n",
    "GaussianNB_pred = GaussianNB_clf.predict(features_test)\n",
    "print \"GaussianNB_clf predict time:\", round(time()-t1, 3), \"s\""
   ]
  },
  {
   "cell_type": "markdown",
   "metadata": {},
   "source": [
    "GaussianNB_clf training time: 0.0 s\n",
    "GaussianNB_clf predict time: 0.001 s\n",
    "The naive_bayes's recall is: 0.883720930233 \n",
    "The naive_bayes's precision is : 0.883720930233"
   ]
  },
  {
   "cell_type": "markdown",
   "metadata": {},
   "source": [
    "### 5.2 选择支持向量机算法建立机器学习模型"
   ]
  },
  {
   "cell_type": "code",
   "execution_count": null,
   "metadata": {
    "collapsed": true
   },
   "outputs": [],
   "source": [
    "# 选择支持向量机算法建立机器学习模型\n",
    "from sklearn.svm import SVC\n",
    "from sklearn.model_selection import GridSearchCV\n",
    "\n",
    "parameters = {'kernel':('rbf',),  'C':[1, 10]}\n",
    "svc = SVC()\n",
    "SVC_clf = GridSearchCV(svc, parameters )  \n",
    "\n",
    "t0 = time()\n",
    "SVC_clf.fit(features_train, labels_train)\n",
    "print \"SVC_clf training time:\", round(time()-t0, 3), \"s\"\n",
    "print SVC_clf.best_params_ \n",
    "t1 = time()\n",
    "SVC_pred = SVC_clf.predict(features_test)\n",
    "print \"SVC_clf predict time:\", round(time()-t1, 3), \"s\"\n",
    "\n",
    "SVC_recall = recall_score(labels_test, SVC_pred, average='micro')\n",
    "SVC_precision = precision_score(labels_test, SVC_pred, average='micro')\n",
    "print \"The SVC's recall is: %s \" % SVC_recall\n",
    "print \"The SVC's precision is : %s\" % SVC_precision"
   ]
  },
  {
   "cell_type": "code",
   "execution_count": null,
   "metadata": {
    "collapsed": true
   },
   "outputs": [],
   "source": [
    "SVC_clf training time: 0.022 s\n",
    "{'kernel': 'rbf', 'C': 1}\n",
    "SVC_clf predict time: 0.002 s\n",
    "The SVC's recall is: 0.883720930233 \n",
    "The SVC's precision is : 0.883720930233"
   ]
  },
  {
   "cell_type": "markdown",
   "metadata": {},
   "source": [
    "### 5.3 参数调整及其重要性"
   ]
  },
  {
   "cell_type": "markdown",
   "metadata": {},
   "source": [
    " 算法调整主要是对分类器的参数进行调节，更好地对数据进行拟合，优化分类器的性能，解决过拟合和欠拟合现象。这里对支持向量机svm算法进行参数调整。"
   ]
  },
  {
   "cell_type": "markdown",
   "metadata": {},
   "source": [
    "### 5.4 使用 GridSearchCV 进行参数调整"
   ]
  },
  {
   "cell_type": "code",
   "execution_count": null,
   "metadata": {
    "collapsed": true
   },
   "outputs": [],
   "source": [
    "# 参数调整\n",
    "from sklearn.model_selection import GridSearchCV\n",
    "parameters = {'C':[0.00001,0.0001,0.001,0.01,.1,1,10,100,1000]}\n",
    "SVC_clf = GridSearchCV(SVC_clf, parameters ) "
   ]
  },
  {
   "cell_type": "markdown",
   "metadata": {},
   "source": [
    "## 六、验证和评估"
   ]
  },
  {
   "cell_type": "markdown",
   "metadata": {},
   "source": [
    "### 6.1 评估算法性能"
   ]
  },
  {
   "cell_type": "markdown",
   "metadata": {},
   "source": [
    "本项目使用精确度和召回率这两个指标来评估模型的好坏。精确度表示的是预测为正的样本中有多少是真正的正样本，预测为正有两种可能，一种就是把正类预测为正类(TP)，另一种就是把负类预测为正类(FP)，则P=TP/(TP+FP)；召回率表示的是样本中的正例有多少被预测正确了，也有两种可能，一种是把原来的正类预测成正类(TP)，另一种就是把原来的正类预测为负类(FN)，则R=TP/(TP+FN)。"
   ]
  },
  {
   "cell_type": "markdown",
   "metadata": {},
   "source": [
    "### 6.2 验证及其重要性"
   ]
  },
  {
   "cell_type": "markdown",
   "metadata": {},
   "source": [
    "在机器学习中经常会将数据集分为训练集（training set）跟测试集（testing set），训练集用以建立模型（model），测试集则用来评估该模型对未知样本进行预测时的精确度。我们需要在测试集上进行验证，来确定训练集是否“过拟合”。"
   ]
  },
  {
   "cell_type": "markdown",
   "metadata": {},
   "source": [
    "### 6.3 验证策略"
   ]
  },
  {
   "cell_type": "markdown",
   "metadata": {
    "collapsed": true
   },
   "source": [
    "这里将数据集进行拆分，30%的数据作为测试集用于测试，70%的数据作为训练集用于训练。"
   ]
  },
  {
   "cell_type": "code",
   "execution_count": null,
   "metadata": {
    "collapsed": true
   },
   "outputs": [],
   "source": [
    "from sklearn.cross_validation import train_test_split\n",
    "features_train, features_test, labels_train, labels_test = \\\n",
    "    train_test_split(features, labels, test_size=0.3, random_state=42)"
   ]
  },
  {
   "cell_type": "markdown",
   "metadata": {},
   "source": [
    "## 七、参考资料"
   ]
  },
  {
   "cell_type": "markdown",
   "metadata": {},
   "source": [
    "* http://scikit-learn.org/stable/modules/generated/sklearn.naive_bayes.GaussianNB.html\n",
    "* http://scikit-learn.org/stable/modules/svm.html\n",
    "* http://scikit-learn.org/stable/modules/generated/sklearn.metrics.precision_score.html\n",
    "* http://scikit-learn.org/stable/modules/generated/sklearn.metrics.recall_score.html\n",
    "* 如何解释召回率与准确率？: https://www.zhihu.com/question/19645541"
   ]
  }
 ],
 "metadata": {
  "kernelspec": {
   "display_name": "Python 2",
   "language": "python",
   "name": "python2"
  },
  "language_info": {
   "codemirror_mode": {
    "name": "ipython",
    "version": 2
   },
   "file_extension": ".py",
   "mimetype": "text/x-python",
   "name": "python",
   "nbconvert_exporter": "python",
   "pygments_lexer": "ipython2",
   "version": "2.7.13"
  }
 },
 "nbformat": 4,
 "nbformat_minor": 2
}
